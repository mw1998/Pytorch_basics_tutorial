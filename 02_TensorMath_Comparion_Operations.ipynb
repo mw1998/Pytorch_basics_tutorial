{
 "cells": [
  {
   "cell_type": "code",
   "execution_count": 1,
   "metadata": {},
   "outputs": [],
   "source": [
    "### Tensor Math & Comparison Operations"
   ]
  },
  {
   "cell_type": "code",
   "execution_count": 2,
   "metadata": {},
   "outputs": [],
   "source": [
    "import torch"
   ]
  },
  {
   "cell_type": "code",
   "execution_count": 3,
   "metadata": {},
   "outputs": [],
   "source": [
    "x = torch.tensor([1, 2, 3])\n",
    "y = torch.tensor([9, 8, 7])"
   ]
  },
  {
   "cell_type": "code",
   "execution_count": 5,
   "metadata": {},
   "outputs": [
    {
     "name": "stdout",
     "output_type": "stream",
     "text": [
      "tensor([10., 10., 10.])\n",
      "tensor([10, 10, 10])\n",
      "tensor([10, 10, 10])\n"
     ]
    }
   ],
   "source": [
    "# Addition\n",
    "z1 = torch.empty(3)\n",
    "torch.add(x, y, out=z1)\n",
    "print(z1)\n",
    "\n",
    "z2 = torch.add(x, y)\n",
    "print(z2)\n",
    "\n",
    "z = x + y\n",
    "print(z)"
   ]
  },
  {
   "cell_type": "code",
   "execution_count": 6,
   "metadata": {},
   "outputs": [
    {
     "name": "stdout",
     "output_type": "stream",
     "text": [
      "tensor([-8, -6, -4])\n"
     ]
    }
   ],
   "source": [
    "# Subtraction\n",
    "z = x - y\n",
    "print(z)"
   ]
  },
  {
   "cell_type": "code",
   "execution_count": 7,
   "metadata": {},
   "outputs": [
    {
     "name": "stdout",
     "output_type": "stream",
     "text": [
      "tensor([0.1111, 0.2500, 0.4286])\n"
     ]
    }
   ],
   "source": [
    "# Division\n",
    "z = torch.true_divide(x, y)\n",
    "print(z)"
   ]
  },
  {
   "cell_type": "code",
   "execution_count": 10,
   "metadata": {},
   "outputs": [
    {
     "name": "stdout",
     "output_type": "stream",
     "text": [
      "tensor([1., 2., 3.])\n",
      "tensor([2., 4., 6.])\n"
     ]
    }
   ],
   "source": [
    "# Inplace operations\n",
    "t = torch.zeros(3)\n",
    "t.add_(x)\n",
    "print(t)\n",
    "t += x # t = t + x\n",
    "print(t)"
   ]
  },
  {
   "cell_type": "code",
   "execution_count": 12,
   "metadata": {},
   "outputs": [
    {
     "name": "stdout",
     "output_type": "stream",
     "text": [
      "tensor([1, 4, 9])\n",
      "tensor([1, 4, 9])\n"
     ]
    }
   ],
   "source": [
    "# Exponentiation\n",
    "z = x.pow(2)\n",
    "print(z)\n",
    "z = x ** 2\n",
    "print(z)"
   ]
  },
  {
   "cell_type": "code",
   "execution_count": 14,
   "metadata": {},
   "outputs": [
    {
     "name": "stdout",
     "output_type": "stream",
     "text": [
      "tensor([True, True, True])\n",
      "tensor([False, False, False])\n"
     ]
    }
   ],
   "source": [
    "# Simple comparion\n",
    "z = x > 0\n",
    "print(z)\n",
    "z = x < 0\n",
    "print(z)"
   ]
  },
  {
   "cell_type": "code",
   "execution_count": 15,
   "metadata": {},
   "outputs": [
    {
     "name": "stdout",
     "output_type": "stream",
     "text": [
      "tensor([[0.0461, 0.8025, 0.4515, 0.8971, 0.2115],\n",
      "        [0.5237, 0.8451, 0.1771, 0.3182, 0.8047]])\n",
      "tensor([[0.1598, 0.5945, 0.8470],\n",
      "        [0.7692, 0.8331, 0.3614],\n",
      "        [0.2823, 0.0902, 0.2565],\n",
      "        [0.4686, 0.5653, 0.5304],\n",
      "        [0.6478, 0.5833, 0.9962]])\n",
      "tensor([[1.3095, 1.3672, 1.1314],\n",
      "        [1.4541, 1.6807, 1.7648]])\n",
      "tensor([[1.3095, 1.3672, 1.1314],\n",
      "        [1.4541, 1.6807, 1.7648]])\n"
     ]
    }
   ],
   "source": [
    "# Matrix Multiplication\n",
    "x1 = torch.rand((2, 5))\n",
    "x2 = torch.rand((5, 3))\n",
    "x3 = torch.mm(x1, x2)\n",
    "print(x1), print(x2), print(x3)\n",
    "x3 = x1.mm(x2)\n",
    "print(x3)"
   ]
  },
  {
   "cell_type": "code",
   "execution_count": 18,
   "metadata": {},
   "outputs": [
    {
     "name": "stdout",
     "output_type": "stream",
     "text": [
      "tensor([[0, 1],\n",
      "        [2, 3]])\n",
      "tensor([[ 6, 11],\n",
      "        [22, 39]])\n"
     ]
    }
   ],
   "source": [
    "# Matrix Exponentiation\n",
    "matrix_exp = torch.arange(4).reshape(2,2)\n",
    "print(matrix_exp)\n",
    "matrix_exp_p = matrix_exp.matrix_power(3)\n",
    "print(matrix_exp_p)"
   ]
  },
  {
   "cell_type": "code",
   "execution_count": 20,
   "metadata": {},
   "outputs": [
    {
     "name": "stdout",
     "output_type": "stream",
     "text": [
      "tensor([ 9, 16, 21])\n"
     ]
    }
   ],
   "source": [
    "# Element wise mult\n",
    "x = torch.tensor([1, 2, 3])\n",
    "y = torch.tensor([9, 8, 7])\n",
    "z = x * y \n",
    "print(z)"
   ]
  },
  {
   "cell_type": "code",
   "execution_count": 21,
   "metadata": {},
   "outputs": [
    {
     "name": "stdout",
     "output_type": "stream",
     "text": [
      "tensor(46)\n"
     ]
    }
   ],
   "source": [
    "# dot product\n",
    "z = torch.dot(x, y)\n",
    "print(z)"
   ]
  },
  {
   "cell_type": "code",
   "execution_count": 22,
   "metadata": {},
   "outputs": [
    {
     "name": "stdout",
     "output_type": "stream",
     "text": [
      "torch.Size([32, 10, 20])\n",
      "torch.Size([32, 20, 30])\n",
      "torch.Size([32, 10, 30])\n"
     ]
    },
    {
     "data": {
      "text/plain": [
       "(None, None, None)"
      ]
     },
     "execution_count": 22,
     "metadata": {},
     "output_type": "execute_result"
    }
   ],
   "source": [
    "# Batch Matrix Multiplication\n",
    "batch = 32\n",
    "n = 10\n",
    "m = 20\n",
    "p = 30\n",
    "\n",
    "tensor1 = torch.rand((batch, n, m))\n",
    "tensor2 = torch.rand((batch, m, p))\n",
    "out_bmm = torch.bmm(tensor1, tensor2)\n",
    "print(tensor1.shape), print(tensor2.shape), print(out_bmm.shape)"
   ]
  },
  {
   "cell_type": "code",
   "execution_count": 23,
   "metadata": {},
   "outputs": [
    {
     "name": "stdout",
     "output_type": "stream",
     "text": [
      "torch.Size([5, 5])\n",
      "torch.Size([1, 5])\n",
      "torch.Size([5, 5])\n",
      "torch.Size([5, 5])\n"
     ]
    }
   ],
   "source": [
    "# Example of Broadcasting\n",
    "x1 = torch.rand((5, 5))\n",
    "x2 = torch.rand((1, 5))\n",
    "print(x1.shape), print(x2.shape)\n",
    "\n",
    "z = x1 - x2\n",
    "print(z.shape)\n",
    "\n",
    "z = x1 ** x2  # ** element wise power\n",
    "print(z.shape)"
   ]
  },
  {
   "cell_type": "code",
   "execution_count": 31,
   "metadata": {},
   "outputs": [
    {
     "name": "stdout",
     "output_type": "stream",
     "text": [
      "tensor([[1, 2],\n",
      "        [3, 4]])\n",
      "tensor([1, 0])\n",
      "tensor([[1, 1],\n",
      "        [3, 1]])\n"
     ]
    }
   ],
   "source": [
    "x1 = torch.tensor([[1, 2], [3, 4]])\n",
    "x2 = torch.tensor([1, 0])\n",
    "print(x1), print(x2)\n",
    "print(x1 ** x2)"
   ]
  },
  {
   "cell_type": "code",
   "execution_count": 62,
   "metadata": {},
   "outputs": [
    {
     "name": "stdout",
     "output_type": "stream",
     "text": [
      "tensor(6)\n",
      "tensor(3) tensor(2)\n",
      "tensor(1) tensor(0)\n",
      "tensor([1, 2, 3])\n",
      "tensor(2)\n",
      "tensor(0)\n",
      "tensor(2.)\n",
      "tensor([False, False, False])\n",
      "tensor([7, 8, 9]) tensor([2, 1, 0])\n",
      "tensor([1, 1, 1])\n"
     ]
    }
   ],
   "source": [
    "# Other useful tensor operations\n",
    "x = torch.tensor([1, 2, 3])\n",
    "y = torch.tensor([9, 8, 7])\n",
    "sum_x = torch.sum(x, dim=0) # x.sum(dim=0)\n",
    "print(sum_x)\n",
    "\n",
    "values, indices = torch.max(x, dim=0) # x.max(dim=0)\n",
    "print(values, indices)\n",
    "values, indices = torch.min(x, dim=0)\n",
    "print(values, indices)\n",
    "\n",
    "abs_x = torch.abs(x)\n",
    "print(abs_x)\n",
    "\n",
    "z = torch.argmax(x, dim=0) # return index\n",
    "print(z)\n",
    "z = torch.argmin(x, dim=0)\n",
    "print(z)\n",
    "\n",
    "mean_x = torch.mean(x.float(), dim=0) # mean(): input dtype should be either floating point or complex dtypes. Got Long instead.\n",
    "print(mean_x)\n",
    "\n",
    "z = torch.eq(x, y)\n",
    "print(z)\n",
    "\n",
    "z_sort = torch.sort(y, dim=0, descending=False) # return sorted_y and indices\n",
    "print(*z_sort)\n",
    "\n",
    "z = torch.clamp(x, min=0, max=1) # 将小于min和大于max的数置为min和max\n",
    "print(z)"
   ]
  },
  {
   "cell_type": "code",
   "execution_count": 60,
   "metadata": {},
   "outputs": [
    {
     "name": "stdout",
     "output_type": "stream",
     "text": [
      "tensor([ True, False,  True,  True,  True])\n",
      "tensor(True)\n",
      "tensor(False)\n"
     ]
    }
   ],
   "source": [
    "x = torch.tensor([1, 0, 1, 1, 1], dtype=torch.bool)\n",
    "print(x)\n",
    "\n",
    "z = torch.any(x) # 是否存在True\n",
    "print(z)\n",
    "\n",
    "z = torch.all(x) # 是否全是True\n",
    "print(z)"
   ]
  }
 ],
 "metadata": {
  "interpreter": {
   "hash": "bea151495e21b09669b579db65fdfd1623fa1cb64926cd75da5b5ecb0779b291"
  },
  "kernelspec": {
   "display_name": "Python 3.8.12 64-bit ('d2l': conda)",
   "language": "python",
   "name": "python3"
  },
  "language_info": {
   "codemirror_mode": {
    "name": "ipython",
    "version": 3
   },
   "file_extension": ".py",
   "mimetype": "text/x-python",
   "name": "python",
   "nbconvert_exporter": "python",
   "pygments_lexer": "ipython3",
   "version": "3.8.12"
  },
  "orig_nbformat": 4
 },
 "nbformat": 4,
 "nbformat_minor": 2
}
