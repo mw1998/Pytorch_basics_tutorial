{
 "cells": [
  {
   "cell_type": "markdown",
   "metadata": {},
   "source": [
    "#### Methods for dealing with imbalanced datasets:\n",
    "- Oversampling\n",
    "- Class weighting"
   ]
  },
  {
   "cell_type": "code",
   "execution_count": 1,
   "metadata": {},
   "outputs": [],
   "source": [
    "import torch \n",
    "import torchvision.datasets as datasets\n",
    "import os \n",
    "from torch.utils.data import WeightedRandomSampler, DataLoader\n",
    "import torchvision.transforms as transforms\n",
    "import torch.nn as nn"
   ]
  },
  {
   "cell_type": "code",
   "execution_count": 2,
   "metadata": {},
   "outputs": [],
   "source": [
    "# Class weighting\n",
    "root_dir = r'dataset\\imbalanced_dataset'\n",
    "# 第一个类别中有50张图像，第二个类别中只有一个图像\n",
    "# 在计算损失时，对于不同类别的图像乘以不同的权重，以达到平衡\n",
    "loss_fn = nn.CrossEntropyLoss(weight=torch.tensor([1, 50]))"
   ]
  },
  {
   "cell_type": "code",
   "execution_count": 5,
   "metadata": {},
   "outputs": [],
   "source": [
    "# Oversampling\n",
    "def get_loader(root_dir, batch_size):\n",
    "    my_transforms = transforms.Compose(\n",
    "        [\n",
    "            transforms.Resize((224, 224)),\n",
    "            transforms.ToTensor(),\n",
    "        ]\n",
    "    )\n",
    "\n",
    "    dataset = datasets.ImageFolder(root=root_dir, transform=my_transforms)\n",
    "\n",
    "    # class_weights = [1, 50] # or [1/50, 1] is same\n",
    "    # Automatic\n",
    "    class_weights = []\n",
    "    for root, dirs, files in os.walk(root_dir):\n",
    "        if len(files) > 0:\n",
    "            class_weights.append(1/len(files))\n",
    "\n",
    "    sample_weights = [0] * len(dataset)\n",
    "\n",
    "    for idx, (data, label) in enumerate(dataset):\n",
    "        class_weight = class_weights[label]\n",
    "        sample_weights[idx] = class_weight\n",
    "\n",
    "    # replacement 表示一个样本是否会在一个batch(row)中重复出现\n",
    "    sampler = WeightedRandomSampler(weights=sample_weights, num_samples=\n",
    "                                        len(sample_weights), replacement=True)\n",
    "\n",
    "    loader = DataLoader(dataset, batch_size=batch_size, sampler=sampler)\n",
    "\n",
    "    return loader\n"
   ]
  },
  {
   "cell_type": "code",
   "execution_count": 7,
   "metadata": {},
   "outputs": [
    {
     "name": "stdout",
     "output_type": "stream",
     "text": [
      "tensor(258)\n",
      "tensor(252)\n"
     ]
    }
   ],
   "source": [
    "loader = get_loader(root_dir=root_dir, batch_size=8)\n",
    "\n",
    "num_retrievers = 0\n",
    "num_elkhounds = 0\n",
    "for epoch in range(10):\n",
    "    for data, labels in loader:\n",
    "        # print(labels)\n",
    "        num_retrievers += torch.sum(labels==0)\n",
    "        num_elkhounds += torch.sum(labels==1)\n",
    "\n",
    "print(num_retrievers)\n",
    "print(num_elkhounds)"
   ]
  }
 ],
 "metadata": {
  "interpreter": {
   "hash": "bea151495e21b09669b579db65fdfd1623fa1cb64926cd75da5b5ecb0779b291"
  },
  "kernelspec": {
   "display_name": "Python 3.8.12 64-bit ('d2l': conda)",
   "language": "python",
   "name": "python3"
  },
  "language_info": {
   "codemirror_mode": {
    "name": "ipython",
    "version": 3
   },
   "file_extension": ".py",
   "mimetype": "text/x-python",
   "name": "python",
   "nbconvert_exporter": "python",
   "pygments_lexer": "ipython3",
   "version": "3.8.12"
  },
  "orig_nbformat": 4
 },
 "nbformat": 4,
 "nbformat_minor": 2
}
