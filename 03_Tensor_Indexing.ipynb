{
 "cells": [
  {
   "cell_type": "code",
   "execution_count": 1,
   "metadata": {},
   "outputs": [],
   "source": [
    "import torch"
   ]
  },
  {
   "cell_type": "markdown",
   "metadata": {},
   "source": [
    "### Tensor Indexing"
   ]
  },
  {
   "cell_type": "code",
   "execution_count": 7,
   "metadata": {},
   "outputs": [
    {
     "name": "stdout",
     "output_type": "stream",
     "text": [
      "torch.Size([25])\n",
      "torch.Size([10])\n",
      "tensor([0.8077, 0.3211, 0.5987, 0.4828, 0.8832, 0.3124, 0.4831, 0.4473, 0.5664,\n",
      "        0.9764])\n"
     ]
    }
   ],
   "source": [
    "batch_size = 10\n",
    "features = 25\n",
    "x = torch.rand((batch_size, features))\n",
    "\n",
    "print(x[0].shape) # x[0, :]\n",
    "\n",
    "print(x[:, 0].shape)\n",
    "\n",
    "print(x[2, 0:10]) # 0;10 --> [0, 1, 2, ..., 9]\n",
    "\n",
    "x[0, 0] = 100"
   ]
  },
  {
   "cell_type": "code",
   "execution_count": 19,
   "metadata": {},
   "outputs": [
    {
     "name": "stdout",
     "output_type": "stream",
     "text": [
      "tensor([2, 4, 8])\n",
      "torch.Size([2])\n"
     ]
    }
   ],
   "source": [
    "# Fancy indexing\n",
    "x = torch.arange(111)\n",
    "indices = [2, 4, 8]\n",
    "print(x[indices])\n",
    "\n",
    "x = torch.rand((3, 5))\n",
    "rows = torch.tensor([1, 0])\n",
    "cols = torch.tensor([4, 0])\n",
    "print(x[rows, cols].shape)"
   ]
  },
  {
   "cell_type": "code",
   "execution_count": 22,
   "metadata": {},
   "outputs": [
    {
     "name": "stdout",
     "output_type": "stream",
     "text": [
      "tensor([ 0,  1,  9, 10])\n",
      "tensor([ 0,  2,  4,  6,  8, 10])\n"
     ]
    }
   ],
   "source": [
    "# More advanced indexing\n",
    "x = torch.arange(11)\n",
    "print(x[(x < 2) | (x > 8)])\n",
    "print(x[x.remainder(2) == 0])"
   ]
  },
  {
   "cell_type": "code",
   "execution_count": 24,
   "metadata": {},
   "outputs": [
    {
     "name": "stdout",
     "output_type": "stream",
     "text": [
      "tensor([ 0,  2,  4,  6,  8, 10,  6,  7,  8,  9, 10])\n",
      "tensor([0, 1, 2, 3, 4])\n",
      "1\n",
      "11\n"
     ]
    }
   ],
   "source": [
    "# Useful operations\n",
    "print(torch.where(x > 5, x, x*2)) # x --> if x > 5 x=x else x = x*2\n",
    "print(torch.tensor([0, 0, 1, 2, 2, 3, 4]).unique())\n",
    "print(x.ndimension()) # 5x5x5 --> 3\n",
    "print(x.numel()) # how many number"
   ]
  }
 ],
 "metadata": {
  "interpreter": {
   "hash": "bea151495e21b09669b579db65fdfd1623fa1cb64926cd75da5b5ecb0779b291"
  },
  "kernelspec": {
   "display_name": "Python 3.8.12 64-bit ('d2l': conda)",
   "language": "python",
   "name": "python3"
  },
  "language_info": {
   "codemirror_mode": {
    "name": "ipython",
    "version": 3
   },
   "file_extension": ".py",
   "mimetype": "text/x-python",
   "name": "python",
   "nbconvert_exporter": "python",
   "pygments_lexer": "ipython3",
   "version": "3.8.12"
  },
  "orig_nbformat": 4
 },
 "nbformat": 4,
 "nbformat_minor": 2
}
